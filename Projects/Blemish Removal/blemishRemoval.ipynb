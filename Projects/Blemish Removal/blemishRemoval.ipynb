{
 "cells": [
  {
   "cell_type": "code",
   "execution_count": 5,
   "metadata": {},
   "outputs": [],
   "source": [
    "import numpy as np\n",
    "import cv2 as cv"
   ]
  },
  {
   "cell_type": "code",
   "execution_count": 45,
   "metadata": {},
   "outputs": [],
   "source": [
    "# OpenCV Utility Class for Mouse Handling\n",
    "class BlemishRemoval:\n",
    "    def __init__(self, windowname, dests, colors_func):\n",
    "    #def __init__(self, windowname, dests):\n",
    "        self.prev_pt = None\n",
    "        self.windowname = windowname\n",
    "        self.dests = dests\n",
    "        self.colors_func = colors_func\n",
    "        self.dirty = False\n",
    "        self.show()\n",
    "        cv.setMouseCallback(self.windowname, self.on_mouse)\n",
    "\n",
    "    def show(self):\n",
    "        cv.imshow(self.windowname, self.dests[0])\n",
    "        #cv.imshow(self.windowname + \": mask\", self.dests[1])\n",
    "\n",
    "    # onMouse function for Mouse Handling\n",
    "    def on_mouse(self, event, x, y, flags, param):\n",
    "        pt = (x, y)\n",
    "        if event == cv.EVENT_LBUTTONDOWN:\n",
    "            self.prev_pt = pt\n",
    "        elif event == cv.EVENT_LBUTTONUP:\n",
    "            self.prev_pt = None\n",
    "\n",
    "        if self.prev_pt and flags & cv.EVENT_FLAG_LBUTTON:\n",
    "            cv.circle(self.dests[1], self.prev_pt, int(15), (255,255,255),-1, \n",
    "                    cv.LINE_AA)\n",
    "            self.dirty = True\n",
    "            self.prev_pt = pt\n",
    "            cv.inpaint(src=self.dests[0],dst = self.dests[0], inpaintMask=self.dests[1], inpaintRadius=3, flags=cv.INPAINT_TELEA)\n",
    "            self.show()"
   ]
  },
  {
   "cell_type": "code",
   "execution_count": 46,
   "metadata": {},
   "outputs": [],
   "source": [
    "# Read image in color mode\n",
    "filename = 'acne.jpg'\n",
    "img = cv.imread(filename, cv.IMREAD_COLOR)\n",
    "\n",
    "# If image is not read properly, return error\n",
    "if img is None:\n",
    "    print('Failed to load image file: {}'.format(filename))"
   ]
  },
  {
   "cell_type": "code",
   "execution_count": 47,
   "metadata": {},
   "outputs": [],
   "source": [
    "# Create a copy of original image\n",
    "img_mask = img.copy()\n",
    "# Create a black copy of original image\n",
    "# Acts as a mask\n",
    "inpaintMask = np.zeros(img.shape[:2], np.uint8)\n",
    "# Create sketch using OpenCV Utility Class: BlemishRemoval\n",
    "blemish = BlemishRemoval('image', [img_mask, inpaintMask], lambda : ((255, 255, 255), 255))\n",
    "print(\"\")\n",
    "while True:\n",
    "    ch = cv.waitKey()\n",
    "    if ch == 27:\n",
    "        break\n",
    "    if ch == ord('r'):\n",
    "        img_mask[:] = img\n",
    "        inpaintMask[:] = 0\n",
    "        blemish.show()\n",
    "cv.destroyAllWindows()"
   ]
  },
  {
   "cell_type": "code",
   "execution_count": null,
   "metadata": {},
   "outputs": [],
   "source": []
  }
 ],
 "metadata": {
  "kernelspec": {
   "display_name": "Python 3",
   "language": "python",
   "name": "python3"
  },
  "language_info": {
   "codemirror_mode": {
    "name": "ipython",
    "version": 3
   },
   "file_extension": ".py",
   "mimetype": "text/x-python",
   "name": "python",
   "nbconvert_exporter": "python",
   "pygments_lexer": "ipython3",
   "version": "3.7.3"
  }
 },
 "nbformat": 4,
 "nbformat_minor": 2
}
